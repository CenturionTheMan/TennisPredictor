{
 "cells": [
  {
   "cell_type": "code",
   "execution_count": 9,
   "metadata": {},
   "outputs": [],
   "source": [
    "import requests\n",
    "from bs4 import BeautifulSoup\n",
    "\n",
    "def get_html(url: str) -> BeautifulSoup:\n",
    "    headers = {\n",
    "        \"User-Agent\": \"Mozilla/5.0 (Windows NT 10.0; Win64; x64) AppleWebKit/537.36 (KHTML, like Gecko) Chrome/123.0.0.0 Safari/537.36\"\n",
    "    }\n",
    "    response = requests.get(url, headers=headers)\n",
    "    \n",
    "    if response.status_code == 200:\n",
    "        soup = BeautifulSoup(response.text, \"html.parser\")\n",
    "        return soup\n",
    "    else:\n",
    "        raise Exception(f\"Failed to get HTML from {url}\")\n"
   ]
  },
  {
   "cell_type": "code",
   "execution_count": null,
   "metadata": {},
   "outputs": [],
   "source": [
    "import requests\n",
    "from bs4 import BeautifulSoup\n",
    "\n",
    "soup = get_html(\"https://www.tennisexplorer.com/results/?year=2025&month=03&day=11\")\n",
    "trs = soup.find(\"table\", class_=\"result\").find(\"tbody\").find_all(\"tr\")\n",
    "trs = [tr for tr in trs if tr.attrs.get(\"id\") is not None and \"r\" in tr.attrs.get(\"id\") and \"b\" in tr.attrs.get(\"id\")]\n",
    "\n",
    "all_as = [x.find(\"td\").find_all(\"a\")[0] for x in trs]\n",
    "players_details_hrefs = [x[\"href\"] for x in all_as]\n",
    "\n",
    "print(players_details_hrefs)\n",
    "        "
   ]
  },
  {
   "cell_type": "code",
   "execution_count": null,
   "metadata": {},
   "outputs": [],
   "source": [
    "for href in "
   ]
  }
 ],
 "metadata": {
  "kernelspec": {
   "display_name": ".venv",
   "language": "python",
   "name": "python3"
  },
  "language_info": {
   "codemirror_mode": {
    "name": "ipython",
    "version": 3
   },
   "file_extension": ".py",
   "mimetype": "text/x-python",
   "name": "python",
   "nbconvert_exporter": "python",
   "pygments_lexer": "ipython3",
   "version": "3.12.9"
  }
 },
 "nbformat": 4,
 "nbformat_minor": 2
}

{
 "cells": [
  {
   "cell_type": "code",
   "execution_count": 2,
   "metadata": {},
   "outputs": [],
   "source": [
    "import requests\n",
    "from bs4 import BeautifulSoup\n",
    "\n",
    "def get_html(url: str) -> BeautifulSoup:\n",
    "    headers = {\n",
    "        \"User-Agent\": \"Mozilla/5.0 (Windows NT 10.0; Win64; x64) AppleWebKit/537.36 (KHTML, like Gecko) Chrome/123.0.0.0 Safari/537.36\"\n",
    "    }\n",
    "    response = requests.get(url, headers=headers)\n",
    "    \n",
    "    if response.status_code == 200:\n",
    "        soup = BeautifulSoup(response.text, \"html.parser\")\n",
    "        return soup\n",
    "    else:\n",
    "        raise Exception(f\"Failed to get HTML from {url}\")\n"
   ]
  },
  {
   "cell_type": "code",
   "execution_count": 13,
   "metadata": {},
   "outputs": [
    {
     "name": "stdout",
     "output_type": "stream",
     "text": [
      "['/match-detail/?id=2840455', '/match-detail/?id=2840451', '/match-detail/?id=2840573', '/match-detail/?id=2839705', '/match-detail/?id=2839383', '/match-detail/?id=2839417', '/match-detail/?id=2840601', '/match-detail/?id=2840599', '/match-detail/?id=2840635', '/match-detail/?id=2840633', '/match-detail/?id=2841727', '/match-detail/?id=2839375', '/match-detail/?id=2841729', '/match-detail/?id=2839371', '/match-detail/?id=2839373', '/match-detail/?id=2839363', '/match-detail/?id=2841731', '/match-detail/?id=2841725', '/match-detail/?id=2841723', '/match-detail/?id=2841733', '/match-detail/?id=2841681', '/match-detail/?id=2838775', '/match-detail/?id=2838785', '/match-detail/?id=2841691', '/match-detail/?id=2841683', '/match-detail/?id=2841685', '/match-detail/?id=2838779', '/match-detail/?id=2841687', '/match-detail/?id=2841689', '/match-detail/?id=2838789', '/match-detail/?id=2841701', '/match-detail/?id=2841699', '/match-detail/?id=2841703', '/match-detail/?id=2838693', '/match-detail/?id=2841697', '/match-detail/?id=2838685', '/match-detail/?id=2840369', '/match-detail/?id=2841695', '/match-detail/?id=2838687', '/match-detail/?id=2838677', '/match-detail/?id=2838689', '/match-detail/?id=2838691', '/match-detail/?id=2841797', '/match-detail/?id=2841863', '/match-detail/?id=2841481', '/match-detail/?id=2841785', '/match-detail/?id=2841491', '/match-detail/?id=2841855', '/match-detail/?id=2841775', '/match-detail/?id=2841789', '/match-detail/?id=2841799', '/match-detail/?id=2841861', '/match-detail/?id=2841859', '/match-detail/?id=2841791', '/match-detail/?id=2841783', '/match-detail/?id=2841779', '/match-detail/?id=2841795', '/match-detail/?id=2841489', '/match-detail/?id=2841475', '/match-detail/?id=2840659', '/match-detail/?id=2840649', '/match-detail/?id=2840653', '/match-detail/?id=2840655', '/match-detail/?id=2842135', '/match-detail/?id=2842129', '/match-detail/?id=2842133', '/match-detail/?id=2842131', '/match-detail/?id=2842127', '/match-detail/?id=2842107', '/match-detail/?id=2842109', '/match-detail/?id=2842105', '/match-detail/?id=2842103', '/match-detail/?id=2842101', '/match-detail/?id=2841735', '/match-detail/?id=2842097', '/match-detail/?id=2842099', '/match-detail/?id=2842095', '/match-detail/?id=2841747', '/match-detail/?id=2841539', '/match-detail/?id=2841535', '/match-detail/?id=2841537', '/match-detail/?id=2841543', '/match-detail/?id=2841531', '/match-detail/?id=2841541', '/match-detail/?id=2841529', '/match-detail/?id=2841533', '/match-detail/?id=2841885', '/match-detail/?id=2841545', '/match-detail/?id=2841883', '/match-detail/?id=2841461', '/match-detail/?id=2841465', '/match-detail/?id=2841459', '/match-detail/?id=2841463', '/match-detail/?id=2840813', '/match-detail/?id=2840989', '/match-detail/?id=2840965', '/match-detail/?id=2840971', '/match-detail/?id=2840967', '/match-detail/?id=2840811', '/match-detail/?id=2840809', '/match-detail/?id=2840821', '/match-detail/?id=2840817', '/match-detail/?id=2840363', '/match-detail/?id=2840365', '/match-detail/?id=2840887', '/match-detail/?id=2840367', '/match-detail/?id=2841977', '/match-detail/?id=2841975', '/match-detail/?id=2841973', '/match-detail/?id=2842235', '/match-detail/?id=2841971', '/match-detail/?id=2842233', '/match-detail/?id=2841969', '/match-detail/?id=2841967', '/match-detail/?id=2841709', '/match-detail/?id=2841989', '/match-detail/?id=2841707', '/match-detail/?id=2840941', '/match-detail/?id=2840945', '/match-detail/?id=2841983', '/match-detail/?id=2841987', '/match-detail/?id=2841985', '/match-detail/?id=2840901', '/match-detail/?id=2842073', '/match-detail/?id=2840899', '/match-detail/?id=2840897', '/match-detail/?id=2840903', '/match-detail/?id=2842021', '/match-detail/?id=2842903', '/match-detail/?id=2842009', '/match-detail/?id=2841993', '/match-detail/?id=2840621', '/match-detail/?id=2842641', '/match-detail/?id=2842639', '/match-detail/?id=2842637', '/match-detail/?id=2842633', '/match-detail/?id=2842635', '/match-detail/?id=2842467', '/match-detail/?id=2842469', '/match-detail/?id=2842395', '/match-detail/?id=2841407', '/match-detail/?id=2841297', '/match-detail/?id=2841293', '/match-detail/?id=2841405', '/match-detail/?id=2841291', '/match-detail/?id=2841295', '/match-detail/?id=2841403', '/match-detail/?id=2840751', '/match-detail/?id=2840755', '/match-detail/?id=2840737', '/match-detail/?id=2840743', '/match-detail/?id=2840747', '/match-detail/?id=2840745', '/match-detail/?id=2840739', '/match-detail/?id=2840741', '/match-detail/?id=2840735', '/match-detail/?id=2840733', '/match-detail/?id=2840749', '/match-detail/?id=2840465', '/match-detail/?id=2840471', '/match-detail/?id=2840467', '/match-detail/?id=2840469', '/match-detail/?id=2840753', '/match-detail/?id=2841401', '/match-detail/?id=2841393', '/match-detail/?id=2842049', '/match-detail/?id=2841719', '/match-detail/?id=2841711', '/match-detail/?id=2841817', '/match-detail/?id=2842053', '/match-detail/?id=2842047', '/match-detail/?id=2841713', '/match-detail/?id=2841387', '/match-detail/?id=2841395', '/match-detail/?id=2841845', '/match-detail/?id=2842051', '/match-detail/?id=2841397', '/match-detail/?id=2842055', '/match-detail/?id=2841849', '/match-detail/?id=2841843', '/match-detail/?id=2841453', '/match-detail/?id=2842043', '/match-detail/?id=2841847', '/match-detail/?id=2842045', '/match-detail/?id=2841449', '/match-detail/?id=2841389', '/match-detail/?id=2841185', '/match-detail/?id=2841385', '/match-detail/?id=2841391', '/match-detail/?id=2841399', '/match-detail/?id=2841451', '/match-detail/?id=2841715', '/match-detail/?id=2842037', '/match-detail/?id=2841721', '/match-detail/?id=2842041', '/match-detail/?id=2841717', '/match-detail/?id=2842039', '/match-detail/?id=2841455', '/match-detail/?id=2842017', '/match-detail/?id=2842029', '/match-detail/?id=2842007', '/match-detail/?id=2841991', '/match-detail/?id=2840591']\n"
     ]
    }
   ],
   "source": [
    "import requests\n",
    "from bs4 import BeautifulSoup\n",
    "import pandas as pd\n",
    "\n",
    "soup = get_html(\"https://www.tennisexplorer.com/results/?year=2025&month=03&day=11\")\n",
    "trs = soup.find(\"table\", class_=\"result\").find(\"tbody\").find_all(\"tr\")\n",
    "tds = [tr.find_all(\"td\") for tr in trs]\n",
    "tds = [td for row in tds for td in row]\n",
    "\n",
    "all_as = [td.find_all(\"a\") for td in tds]\n",
    "all_as = [a for row in all_as for a in row]\n",
    "\n",
    "match_details = [x[\"href\"] for x in all_as if x.attrs.get(\"title\") == \"Click for match detail\"]\n",
    "\n",
    "print(match_details)\n",
    "        "
   ]
  },
  {
   "cell_type": "code",
   "execution_count": 15,
   "metadata": {},
   "outputs": [],
   "source": [
    "\n",
    "for href in match_details:\n",
    "    soup = get_html(\"https://www.tennisexplorer.com\" + href)\n",
    "    with open(\"matchDetail.html\", \"w\", encoding=\"UTF-8\") as f:\n",
    "        f.write(str(soup))\n",
    "    break\n",
    "    \n",
    "    \n",
    "   "
   ]
  }
 ],
 "metadata": {
  "kernelspec": {
   "display_name": ".venv",
   "language": "python",
   "name": "python3"
  },
  "language_info": {
   "codemirror_mode": {
    "name": "ipython",
    "version": 3
   },
   "file_extension": ".py",
   "mimetype": "text/x-python",
   "name": "python",
   "nbconvert_exporter": "python",
   "pygments_lexer": "ipython3",
   "version": "3.12.9"
  }
 },
 "nbformat": 4,
 "nbformat_minor": 2
}

{
 "cells": [
  {
   "cell_type": "code",
   "execution_count": 161,
   "metadata": {},
   "outputs": [],
   "source": [
    "import pandas as pd\n",
    "import numpy as np\n",
    "\n",
    "data_combined = pd.read_csv('./../data/data_combined.csv')\n",
    "data_head_to_head = pd.read_csv('./../data/data_head_to_head.csv')\n",
    "\n"
   ]
  },
  {
   "cell_type": "code",
   "execution_count": 162,
   "metadata": {},
   "outputs": [],
   "source": [
    "combined_dict = {}\n",
    "for index, row in data_combined.iterrows():\n",
    "    combined_dict[row['PlayerName']] = row\n",
    "    \n",
    "def get_player_data(player_name, column):\n",
    "    if player_name not in combined_dict:\n",
    "        def_row = pd.Series(\n",
    "            data ={\n",
    "            'PlayerName': player_name,\n",
    "            'EloOutdoor': 1500,\n",
    "            'EloIndoor': 1500,\n",
    "            'EloHard': 1500,\n",
    "            'EloClay': 1500,\n",
    "            'EloGrass': 1500,\n",
    "            'EloCarpet': 1500,\n",
    "            'Last30': 0,\n",
    "            'Last7': 0,\n",
    "            'AvgOddsProb': 0.0\n",
    "        })\n",
    "        return def_row[column]\n",
    "    else:\n",
    "        return combined_dict[player_name][column]\n",
    "    \n",
    "def get_player_data_row(player_name):\n",
    "    if player_name not in combined_dict:\n",
    "        def_row = pd.Series(\n",
    "            data ={\n",
    "            'PlayerName': player_name,\n",
    "            'EloOutdoor': 1500,\n",
    "            'EloIndoor': 1500,\n",
    "            'EloHard': 1500,\n",
    "            'EloClay': 1500,\n",
    "            'EloGrass': 1500,\n",
    "            'EloCarpet': 1500,\n",
    "            'Last30': 0,\n",
    "            'Last7': 0,\n",
    "            'AvgOddsProb': 0.0\n",
    "        })\n",
    "        return def_row\n",
    "    else:\n",
    "        return combined_dict[player_name]"
   ]
  },
  {
   "cell_type": "code",
   "execution_count": 163,
   "metadata": {},
   "outputs": [],
   "source": [
    "head_head_dict = {}\n",
    "for index, row in data_head_to_head.iterrows():\n",
    "    player1 = row['PlayerName']\n",
    "    for column in data_head_to_head.columns[1:]:\n",
    "        player2 = column\n",
    "        key = f'{player1} vs {player2}'\n",
    "        val = row[column]\n",
    "        head_head_dict[key] = val\n",
    "\n",
    "def get_win_amount_row(player_1, player_2):\n",
    "    key = f'{player_1} vs {player_2}'\n",
    "    return head_head_dict.get(key, 0)"
   ]
  },
  {
   "cell_type": "code",
   "execution_count": 164,
   "metadata": {},
   "outputs": [
    {
     "name": "stdout",
     "output_type": "stream",
     "text": [
      "    EloDiff  HeadToHead  ProbDiff  Winner\n",
      "0 -0.006789         0.5 -0.010572       1\n",
      "1  0.022271         0.0 -0.027261       1\n",
      "2 -0.002064         0.0  0.000000       1\n",
      "3  0.028253        -0.5 -0.076674       0\n",
      "4  0.052406         0.0  0.595692       0\n"
     ]
    }
   ],
   "source": [
    "max_elo = 4000\n",
    "all_columns = ['EloDiff', 'HeadToHead', 'ProbDiff', 'Winner']\n",
    "\n",
    "\n",
    "def get_nn_input(player1, player2, surface):\n",
    "    player1_data = get_player_data_row(player1)\n",
    "    player2_data = get_player_data_row(player2)\n",
    "    p1_vs_p2 = get_win_amount_row(player_1=player1, player_2=player2)\n",
    "    p2_vs_p1 = get_win_amount_row(player_1=player2, player_2=player1)\n",
    "    \n",
    "    elo_diff = player1_data[f'Elo{surface}'] - player2_data[f'Elo{surface}']\n",
    "    head_to_head = p1_vs_p2 - p2_vs_p1\n",
    "    prob_dif = player1_data['AvgOddsProb'] - player2_data['AvgOddsProb']\n",
    "    \n",
    "    elo_diff /= max_elo\n",
    "    if head_to_head > 0:\n",
    "        head_to_head = 1 - 1/head_to_head\n",
    "    if head_to_head < 0:\n",
    "        head_to_head = -1 + 1/abs(head_to_head)\n",
    "    \n",
    "    prob_dif = prob_dif\n",
    "    \n",
    "    return [elo_diff, head_to_head, prob_dif]\n",
    "\n",
    "def get_data_set_for_nn(dataset : pd.DataFrame):\n",
    "    data = []\n",
    "    for index, row in dataset.iterrows():\n",
    "        player1 = row['Player_1']\n",
    "        player2 = row['Player_2']\n",
    "        surface = row['Surface']\n",
    "        winner = row['Winner']\n",
    "\n",
    "        nn_in = get_nn_input(player1, player2, surface)\n",
    "        data.append(\n",
    "            nn_in + [1 if player1 == winner else 0]\n",
    "        )\n",
    "     \n",
    "\n",
    "    nn_data = pd.DataFrame(data, columns=all_columns)\n",
    "    nn_data = nn_data.sample(frac=1).reset_index(drop=True)\n",
    "    return nn_data\n",
    "\n",
    "data_for_training = pd.read_csv('./../data/data_for_training.csv')\n",
    "nn_data = get_data_set_for_nn(dataset=data_for_training)\n",
    "print(nn_data.head())\n",
    "nn_data.to_csv('./../data/nn_data.csv', index=False)"
   ]
  },
  {
   "cell_type": "code",
   "execution_count": null,
   "metadata": {},
   "outputs": [
    {
     "name": "stdout",
     "output_type": "stream",
     "text": [
      "Epoch 1/30\n"
     ]
    },
    {
     "name": "stderr",
     "output_type": "stream",
     "text": [
      "c:\\Personal\\TMP\\TennisPredictor\\.venv\\Lib\\site-packages\\keras\\src\\layers\\core\\dense.py:87: UserWarning: Do not pass an `input_shape`/`input_dim` argument to a layer. When using Sequential models, prefer using an `Input(shape)` object as the first layer in the model instead.\n",
      "  super().__init__(activity_regularizer=activity_regularizer, **kwargs)\n"
     ]
    },
    {
     "name": "stdout",
     "output_type": "stream",
     "text": [
      "\u001b[1m1028/1028\u001b[0m \u001b[32m━━━━━━━━━━━━━━━━━━━━\u001b[0m\u001b[37m\u001b[0m \u001b[1m3s\u001b[0m 2ms/step - accuracy: 0.6879 - loss: 0.5852 - val_accuracy: 0.7317 - val_loss: 0.5294\n",
      "Epoch 2/30\n",
      "\u001b[1m1028/1028\u001b[0m \u001b[32m━━━━━━━━━━━━━━━━━━━━\u001b[0m\u001b[37m\u001b[0m \u001b[1m2s\u001b[0m 2ms/step - accuracy: 0.7235 - loss: 0.5505 - val_accuracy: 0.7309 - val_loss: 0.5275\n",
      "Epoch 3/30\n",
      "\u001b[1m1028/1028\u001b[0m \u001b[32m━━━━━━━━━━━━━━━━━━━━\u001b[0m\u001b[37m\u001b[0m \u001b[1m2s\u001b[0m 2ms/step - accuracy: 0.7275 - loss: 0.5450 - val_accuracy: 0.7303 - val_loss: 0.5284\n",
      "Epoch 4/30\n",
      "\u001b[1m1028/1028\u001b[0m \u001b[32m━━━━━━━━━━━━━━━━━━━━\u001b[0m\u001b[37m\u001b[0m \u001b[1m2s\u001b[0m 2ms/step - accuracy: 0.7287 - loss: 0.5434 - val_accuracy: 0.7309 - val_loss: 0.5294\n",
      "Epoch 5/30\n",
      "\u001b[1m1028/1028\u001b[0m \u001b[32m━━━━━━━━━━━━━━━━━━━━\u001b[0m\u001b[37m\u001b[0m \u001b[1m2s\u001b[0m 2ms/step - accuracy: 0.7256 - loss: 0.5487 - val_accuracy: 0.7279 - val_loss: 0.5294\n",
      "Epoch 6/30\n",
      "\u001b[1m 895/1028\u001b[0m \u001b[32m━━━━━━━━━━━━━━━━━\u001b[0m\u001b[37m━━━\u001b[0m \u001b[1m0s\u001b[0m 1ms/step - accuracy: 0.7267 - loss: 0.5465"
     ]
    }
   ],
   "source": [
    "from sklearn.model_selection import train_test_split\n",
    "from sklearn.preprocessing import StandardScaler\n",
    "from tensorflow.keras.models import Sequential\n",
    "from tensorflow.keras.layers import Dense, Dropout\n",
    "import tensorflow as tf\n",
    "\n",
    "input_data = nn_data[all_columns[:-1]]\n",
    "output_data = nn_data['Winner']\n",
    "\n",
    "X_train, y_train = input_data, output_data\n",
    "\n",
    "model = Sequential()\n",
    "model.add(Dense(128, input_dim=X_train.shape[1], activation='relu'))\n",
    "model.add(Dropout(0.5))\n",
    "model.add(Dense(64, activation='relu'))\n",
    "model.add(Dropout(0.5))\n",
    "model.add(Dense(32, activation='relu'))\n",
    "model.add(Dropout(0.5))\n",
    "model.add(Dense(1, activation='sigmoid'))\n",
    "model.compile(loss='binary_crossentropy', optimizer='adam', metrics=['accuracy'])\n",
    "\n",
    "model.fit(X_train, y_train, epochs=30, batch_size=50, validation_split=0.2)\n",
    "\n",
    "\n",
    "# _, accuracy = model.evaluate(X_test, y_test)\n",
    "# print(f'Accuracy: {accuracy}')\n",
    "\n",
    "tf.keras.models.save_model(model, './../models/nn_model.keras')"
   ]
  },
  {
   "cell_type": "code",
   "execution_count": null,
   "metadata": {},
   "outputs": [
    {
     "name": "stdout",
     "output_type": "stream",
     "text": [
      "588\n",
      "\u001b[1m19/19\u001b[0m \u001b[32m━━━━━━━━━━━━━━━━━━━━\u001b[0m\u001b[37m\u001b[0m \u001b[1m0s\u001b[0m 2ms/step - accuracy: 0.6360 - loss: 0.6494 \n",
      "Accuracy: 0.636\n"
     ]
    }
   ],
   "source": [
    "# TESTING\n",
    "\n",
    "data_for_testing = pd.read_csv('./../data/data_for_testing.csv')\n",
    "print(len(data_for_testing))\n",
    "\n",
    "test_data = get_data_set_for_nn(dataset=data_for_testing)\n",
    "X_test, y_test = test_data[all_columns[:-1]], test_data['Winner']\n",
    "\n",
    "_, accuracy = model.evaluate(X_test, y_test)\n",
    "print(f'Accuracy: {accuracy:.3f}')"
   ]
  },
  {
   "cell_type": "code",
   "execution_count": null,
   "metadata": {},
   "outputs": [
    {
     "name": "stdout",
     "output_type": "stream",
     "text": [
      "\u001b[1m1/1\u001b[0m \u001b[32m━━━━━━━━━━━━━━━━━━━━\u001b[0m\u001b[37m\u001b[0m \u001b[1m0s\u001b[0m 61ms/step\n",
      "\u001b[1m1/1\u001b[0m \u001b[32m━━━━━━━━━━━━━━━━━━━━\u001b[0m\u001b[37m\u001b[0m \u001b[1m0s\u001b[0m 34ms/step\n",
      "==================================\n",
      "             PlayerName   WinProb\n",
      "0             Tiafoe F.  0.845873\n",
      "1  Davidovich Fokina A.  0.154127\n",
      "==================================\n",
      "             PlayerName   WinProb\n",
      "0  Davidovich Fokina A.  0.116113\n",
      "1             Tiafoe F.  0.883887\n"
     ]
    }
   ],
   "source": [
    "def predict_match(player1, player2, surface):\n",
    "    nn_in = get_nn_input(player1, player2, surface)\n",
    "    input_data = np.array([nn_in])\n",
    "    prediction = model.predict(input_data)\n",
    "    \n",
    "    res = pd.DataFrame({\n",
    "        'PlayerName': [player1, player2],\n",
    "        'WinProb': [1 - prediction[0][0], prediction[0][0]]\n",
    "    })\n",
    "    \n",
    "    return res\n",
    "\n",
    "\n",
    "model = tf.keras.models.load_model('./../models/nn_model.keras')\n",
    "\n",
    "# player1 = 'Martinez P.'\n",
    "# player2 = 'Brooksby J.'\n",
    "# surface = 'Hard'\n",
    "\n",
    "player1 = 'Tiafoe F.'\n",
    "player2 = 'Davidovich Fokina A.'\n",
    "surface = 'Hard'\n",
    "\n",
    "prediction1 = predict_match(player1, player2, surface)\n",
    "prediction2 = predict_match(player2, player1, surface)\n",
    "\n",
    "print('==================================')\n",
    "print(prediction1)\n",
    "print('==================================')\n",
    "print(prediction2)"
   ]
  }
 ],
 "metadata": {
  "kernelspec": {
   "display_name": ".venv",
   "language": "python",
   "name": "python3"
  },
  "language_info": {
   "codemirror_mode": {
    "name": "ipython",
    "version": 3
   },
   "file_extension": ".py",
   "mimetype": "text/x-python",
   "name": "python",
   "nbconvert_exporter": "python",
   "pygments_lexer": "ipython3",
   "version": "3.12.9"
  }
 },
 "nbformat": 4,
 "nbformat_minor": 2
}
